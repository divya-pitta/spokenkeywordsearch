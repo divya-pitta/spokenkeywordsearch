{
 "cells": [
  {
   "cell_type": "code",
   "execution_count": 85,
   "metadata": {},
   "outputs": [],
   "source": [
    "import pickle\n",
    "import os.path\n",
    "from whoosh.index import create_in\n",
    "from whoosh.fields import *\n",
    "from whoosh.qparser import QueryParser\n",
    "from whoosh import qparser"
   ]
  },
  {
   "cell_type": "code",
   "execution_count": 86,
   "metadata": {},
   "outputs": [],
   "source": [
    "transDict = pickle.load(open('transDict.p', 'rb'))\n",
    "convertedDict = pickle.load(open('speechRecConvertDict.p', 'rb'))"
   ]
  },
  {
   "cell_type": "code",
   "execution_count": 87,
   "metadata": {},
   "outputs": [],
   "source": [
    "schema = Schema(audio=TEXT(stored=True), content=TEXT)\n",
    "if not os.path.exists(\"index\"):\n",
    "    os.mkdir(\"index\")\n",
    "index = create_in(\"index\", schema)\n",
    "writer = index.writer()"
   ]
  },
  {
   "cell_type": "code",
   "execution_count": 88,
   "metadata": {},
   "outputs": [
    {
     "ename": "LockError",
     "evalue": "",
     "output_type": "error",
     "traceback": [
      "\u001b[0;31m\u001b[0m",
      "\u001b[0;31mLockError\u001b[0mTraceback (most recent call last)",
      "\u001b[0;32m<ipython-input-88-38016a492649>\u001b[0m in \u001b[0;36m<module>\u001b[0;34m()\u001b[0m\n\u001b[1;32m      2\u001b[0m     \u001b[0mos\u001b[0m\u001b[0;34m.\u001b[0m\u001b[0mmkdir\u001b[0m\u001b[0;34m(\u001b[0m\u001b[0;34m\"convertindex\"\u001b[0m\u001b[0;34m)\u001b[0m\u001b[0;34m\u001b[0m\u001b[0m\n\u001b[1;32m      3\u001b[0m \u001b[0mconvertindex\u001b[0m \u001b[0;34m=\u001b[0m \u001b[0mcreate_in\u001b[0m\u001b[0;34m(\u001b[0m\u001b[0;34m\"convertindex\"\u001b[0m\u001b[0;34m,\u001b[0m \u001b[0mschema\u001b[0m\u001b[0;34m)\u001b[0m\u001b[0;34m\u001b[0m\u001b[0m\n\u001b[0;32m----> 4\u001b[0;31m \u001b[0mconvertwriter\u001b[0m \u001b[0;34m=\u001b[0m \u001b[0mconvertindex\u001b[0m\u001b[0;34m.\u001b[0m\u001b[0mwriter\u001b[0m\u001b[0;34m(\u001b[0m\u001b[0;34m)\u001b[0m\u001b[0;34m\u001b[0m\u001b[0m\n\u001b[0m",
      "\u001b[0;32m~/.local/lib/python3.5/site-packages/whoosh/index.py\u001b[0m in \u001b[0;36mwriter\u001b[0;34m(self, procs, **kwargs)\u001b[0m\n\u001b[1;32m    462\u001b[0m         \u001b[0;32melse\u001b[0m\u001b[0;34m:\u001b[0m\u001b[0;34m\u001b[0m\u001b[0m\n\u001b[1;32m    463\u001b[0m             \u001b[0;32mfrom\u001b[0m \u001b[0mwhoosh\u001b[0m\u001b[0;34m.\u001b[0m\u001b[0mwriting\u001b[0m \u001b[0;32mimport\u001b[0m \u001b[0mSegmentWriter\u001b[0m\u001b[0;34m\u001b[0m\u001b[0m\n\u001b[0;32m--> 464\u001b[0;31m             \u001b[0;32mreturn\u001b[0m \u001b[0mSegmentWriter\u001b[0m\u001b[0;34m(\u001b[0m\u001b[0mself\u001b[0m\u001b[0;34m,\u001b[0m \u001b[0;34m**\u001b[0m\u001b[0mkwargs\u001b[0m\u001b[0;34m)\u001b[0m\u001b[0;34m\u001b[0m\u001b[0m\n\u001b[0m\u001b[1;32m    465\u001b[0m \u001b[0;34m\u001b[0m\u001b[0m\n\u001b[1;32m    466\u001b[0m     \u001b[0;32mdef\u001b[0m \u001b[0mlock\u001b[0m\u001b[0;34m(\u001b[0m\u001b[0mself\u001b[0m\u001b[0;34m,\u001b[0m \u001b[0mname\u001b[0m\u001b[0;34m)\u001b[0m\u001b[0;34m:\u001b[0m\u001b[0;34m\u001b[0m\u001b[0m\n",
      "\u001b[0;32m~/.local/lib/python3.5/site-packages/whoosh/writing.py\u001b[0m in \u001b[0;36m__init__\u001b[0;34m(self, ix, poolclass, timeout, delay, _lk, limitmb, docbase, codec, compound, **kwargs)\u001b[0m\n\u001b[1;32m    513\u001b[0m             if not try_for(self.writelock.acquire, timeout=timeout,\n\u001b[1;32m    514\u001b[0m                            delay=delay):\n\u001b[0;32m--> 515\u001b[0;31m                 \u001b[0;32mraise\u001b[0m \u001b[0mLockError\u001b[0m\u001b[0;34m\u001b[0m\u001b[0m\n\u001b[0m\u001b[1;32m    516\u001b[0m \u001b[0;34m\u001b[0m\u001b[0m\n\u001b[1;32m    517\u001b[0m         \u001b[0;32mif\u001b[0m \u001b[0mcodec\u001b[0m \u001b[0;32mis\u001b[0m \u001b[0;32mNone\u001b[0m\u001b[0;34m:\u001b[0m\u001b[0;34m\u001b[0m\u001b[0m\n",
      "\u001b[0;31mLockError\u001b[0m: "
     ]
    }
   ],
   "source": [
    "if not os.path.exists(\"convertindex\"):\n",
    "    os.mkdir(\"convertindex\")\n",
    "convertindex = create_in(\"convertindex\", schema)\n",
    "convertwriter = convertindex.writer()"
   ]
  },
  {
   "cell_type": "code",
   "execution_count": 89,
   "metadata": {},
   "outputs": [],
   "source": [
    "for a in transDict:\n",
    "    writer.add_document(audio=u\"\"+a, content=u\"\"+transDict[a])\n",
    "writer.commit()\n",
    "for a in convertedDict:\n",
    "    if(convertedDict[a]):\n",
    "        convertwriter.add_document(audio=u\"\"+a, content=u\"\"+convertedDict[a])\n",
    "convertwriter.commit()"
   ]
  },
  {
   "cell_type": "code",
   "execution_count": 95,
   "metadata": {},
   "outputs": [
    {
     "name": "stdout",
     "output_type": "stream",
     "text": [
      "<Hit {'audio': '5694-64038-0005'}>\n",
      "he walked up and says hello boys what is it boss\n",
      "\n",
      "<Hit {'audio': '6295-244435-0024'}>\n",
      "he gazed upon a world full of responsibilities and perils\n",
      "\n",
      "<Hit {'audio': '1462-170142-0039'}>\n",
      "you see loving some one as i love you makes the whole world different\n",
      "\n",
      "<Hit {'audio': '2086-149220-0034'}>\n",
      "if the original is still in the world i think he might defy the sun to make him look stern and hard\n",
      "\n",
      "<Hit {'audio': '1988-148538-0009'}>\n",
      "if i say to an american that the country he lives in is a fine one ay he replies there is not its fellow in the world\n",
      "\n",
      "<Hit {'audio': '6295-64301-0018'}>\n",
      "let but a mood be strong enough and the soul clothing itself in that mood as with a garment can walk abroad and haunt the world\n",
      "\n",
      "<Hit {'audio': '1993-147149-0001'}>\n",
      "what bankrupts in the world we feel when death like some remorseless creditor seizes on all we fondly thought our own the twins\n",
      "\n",
      "<Hit {'audio': '5895-34622-0022'}>\n",
      "this opening looked for all the world like a mouth of hell in the words of the itinerant puritan preachers who turned away from it with horror\n",
      "\n",
      "<Hit {'audio': '8842-304647-0003'}>\n",
      "this world's thick vapours whelm your eyes unworthy of that glorious show blind to his splendour bent upon his shame\n",
      "\n",
      "<Hit {'audio': '6319-57405-0001'}>\n",
      "after jupiter had bound prometheus on mount caucasus and had sent diseases and cares into the world men became very very wicked\n",
      "\n",
      "-------------\n",
      "<Hit {'audio': '5694-64038-0005'}>\n",
      "he walked up and says hello boys what is it boss\n",
      "<Hit {'audio': '6295-244435-0024'}>\n",
      "he gazed upon a world full of responsibilities and perils\n",
      "<Hit {'audio': '1462-170142-0039'}>\n",
      "you see loving someone is I love you makes the whole world different\n",
      "<Hit {'audio': '1988-148538-0009'}>\n",
      "if I say to an American that the country lives in is a fine one eye he replies there is no fellow in the world\n",
      "<Hit {'audio': '3081-166546-0087'}>\n",
      "no weapon protrude from the world nor was any found on or near her in the mezzanine what follows\n",
      "<Hit {'audio': '1988-148538-0009'}>\n",
      "if I say to an American that the country lives in is a fine one eye he replies there is no fellow in the world\n",
      "<Hit {'audio': '3081-166546-0087'}>\n",
      "no weapon protrude from the world nor was any found on or near her in the mezzanine what follows\n",
      "<Hit {'audio': '2086-149220-0034'}>\n",
      "if the original is still in the world I think he might defy the sun to make him looks turning hard\n",
      "<Hit {'audio': '6295-64301-0018'}>\n",
      "let butter mood be strong enough and the Soul Clothing itself in that mood as with a garment can walk abroad and haunt the world\n",
      "<Hit {'audio': '1993-147149-0001'}>\n",
      "what bankruptcy in the world we feel when death like some remorseless creditor seizes on all we fondly thought our own the twins\n"
     ]
    }
   ],
   "source": [
    "searcher = index.searcher()\n",
    "convertsearcher = convertindex.searcher()\n",
    "query = QueryParser(\"content\", index.schema, group=qparser.OrGroup).parse(u'hello world')\n",
    "results = searcher.search(query)\n",
    "convresults = convertsearcher.search(query)\n",
    "for result in results:\n",
    "    print(result)\n",
    "    print(transDict[result['audio']])\n",
    "print(\"-------------\")\n",
    "for result in convresults:\n",
    "    print(result)\n",
    "    print(convertedDict[result['audio']])"
   ]
  },
  {
   "cell_type": "code",
   "execution_count": 63,
   "metadata": {},
   "outputs": [
    {
     "name": "stdout",
     "output_type": "stream",
     "text": [
      "it cried aloud that eternity was very long and like a great palace without a quiet room\n",
      "\n"
     ]
    }
   ],
   "source": [
    "print(transDict['6295-64301-0019'])"
   ]
  },
  {
   "cell_type": "code",
   "execution_count": null,
   "metadata": {},
   "outputs": [],
   "source": []
  },
  {
   "cell_type": "code",
   "execution_count": null,
   "metadata": {},
   "outputs": [],
   "source": []
  },
  {
   "cell_type": "code",
   "execution_count": null,
   "metadata": {},
   "outputs": [],
   "source": []
  }
 ],
 "metadata": {
  "kernelspec": {
   "display_name": "Python 3",
   "language": "python",
   "name": "python3"
  },
  "language_info": {
   "codemirror_mode": {
    "name": "ipython",
    "version": 3
   },
   "file_extension": ".py",
   "mimetype": "text/x-python",
   "name": "python",
   "nbconvert_exporter": "python",
   "pygments_lexer": "ipython3",
   "version": "3.5.4"
  }
 },
 "nbformat": 4,
 "nbformat_minor": 2
}
