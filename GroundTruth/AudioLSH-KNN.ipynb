{
 "cells": [
  {
   "cell_type": "code",
   "execution_count": 21,
   "metadata": {},
   "outputs": [],
   "source": [
    "import pickle\n",
    "import os.path\n",
    "from whoosh.index import create_in\n",
    "from whoosh.fields import *\n",
    "from whoosh.qparser import QueryParser\n",
    "from whoosh import qparser\n",
    "import random\n",
    "from nltk.corpus import stopwords\n",
    "import nltk\n",
    "# import pyttsx3\n",
    "# import speech_recognition as sr\n",
    "import glob\n",
    "# import pydub\n",
    "import asr.align\n",
    "# from gtts import gTTS\n",
    "import os\n",
    "import soundfile as sf\n",
    "from python_speech_features import mfcc\n",
    "# nltk.download('stopwords')\n",
    "import lshknn\n",
    "import numpy as np\n",
    "import fnmatch"
   ]
  },
  {
   "cell_type": "code",
   "execution_count": 22,
   "metadata": {},
   "outputs": [],
   "source": [
    "transDict = pickle.load(open('transDict2', 'r'))\n",
    "convertedDict = pickle.load(open('speechRecConvertDict2', 'r'))\n",
    "queryList = pickle.load(open('queryList2', 'r'))\n",
    "queryConvertedDict = pickle.load(open('queryConvertedDict2', 'r'))"
   ]
  },
  {
   "cell_type": "code",
   "execution_count": 72,
   "metadata": {},
   "outputs": [
    {
     "name": "stdout",
     "output_type": "stream",
     "text": [
      "100000\n",
      "2705\n"
     ]
    }
   ],
   "source": [
    "minQueryLen = 100000\n",
    "mfccDict = dict(list())\n",
    "mfccNumpyArray = []\n",
    "mfccPosnName = dict()\n",
    "count = 0\n",
    "j = 0\n",
    "for root, dirnames, filenames in os.walk('/home/ubuntu/DevData-AudioBooks/dev-clean/'):\n",
    "    for filename in fnmatch.filter(filenames, '*.wav'):\n",
    "        count += 1\n",
    "        with open(os.path.join(root, filename), 'rb') as f:\n",
    "            data, samplerate = sf.read(f)\n",
    "#         print(\"Read sounfile done\")\n",
    "        mfcc_feat = np.array(mfcc(data, samplerate))\n",
    "#         print(\"Mfcc done\")\n",
    "        mfcclen = len(mfcc_feat)\n",
    "        i = 0\n",
    "        while(i+100<mfcclen):\n",
    "            mfccNumpyArray.append(mfcc_feat[i:i+100].flatten())\n",
    "#         if(len(mfcc_feat)<minQueryLen):\n",
    "#             minQueryLen = len(mfcc_feat)\n",
    "            mfccPosnName[j] = filename.split('.')[0]\n",
    "            i += 100\n",
    "            j += 1\n",
    "print(minQueryLen)\n",
    "print(count)"
   ]
  },
  {
   "cell_type": "code",
   "execution_count": null,
   "metadata": {},
   "outputs": [],
   "source": [
    "mfccNumpyArray = np.array()"
   ]
  },
  {
   "cell_type": "code",
   "execution_count": 3,
   "metadata": {},
   "outputs": [
    {
     "name": "stdout",
     "output_type": "stream",
     "text": [
      "246\n",
      "500\n"
     ]
    }
   ],
   "source": [
    "minQueryLen = 100000\n",
    "count = 0\n",
    "for filename in glob.glob('/home/ubuntu/spokenkeywordsearch/GroundTruth/**/*.wav'):\n",
    "    count += 1\n",
    "    with open(filename, 'rb') as f:\n",
    "        data, samplerate = sf.read(f)\n",
    "#     print(len(data))\n",
    "#     print(samplerate)\n",
    "    mfcc_feat = mfcc(data, samplerate, nfft=600)\n",
    "    if(len(mfcc_feat)<minQueryLen):\n",
    "        minQueryLen = len(mfcc_feat)\n",
    "#     print(len(mfcc_feat))\n",
    "print(minQueryLen)\n",
    "print(count)"
   ]
  },
  {
   "cell_type": "code",
   "execution_count": 70,
   "metadata": {},
   "outputs": [
    {
     "name": "stdout",
     "output_type": "stream",
     "text": [
      "61\n",
      "<closed file '/home/ubuntu/spokenkeywordsearch/GroundTruth/QueryAudio/1007.wav', mode 'rb' at 0x7f4a247ad9c0>\n",
      "438\n",
      "<closed file '/home/ubuntu/spokenkeywordsearch/GroundTruth/QueryAudio/308.wav', mode 'rb' at 0x7f4a247adb70>\n",
      "2703\n"
     ]
    }
   ],
   "source": [
    "minQueryLen = 100000\n",
    "maxQueryLen = 0\n",
    "mfccDict = dict(list())\n",
    "mfccNumpyArray = []\n",
    "mfccPosnName = dict()\n",
    "count = 0\n",
    "j = 0\n",
    "for root, dirnames, filenames in os.walk('/home/ubuntu/spokenkeywordsearch/GroundTruth/'):\n",
    "    for filename in fnmatch.filter(filenames, '*.wav'):\n",
    "        count += 1\n",
    "        with open(os.path.join(root, filename), 'rb') as f:\n",
    "            data, samplerate = sf.read(f)\n",
    "        mfcc_feat = np.array(mfcc(data, samplerate, nfft=600))\n",
    "        mfcclen = len(mfcc_feat)\n",
    "        if(minQueryLen>mfcclen):\n",
    "            minQueryLen = mfcclen\n",
    "            minId = f\n",
    "        if(maxQueryLen<mfcclen):\n",
    "            maxQueryLen = mfcclen\n",
    "            maxId = f\n",
    "        i = 0\n",
    "        while(i+100<mfcclen):\n",
    "            mfccNumpyArray.append(mfcc_feat[i:i+100].flatten())\n",
    "#         if(len(mfcc_feat)<minQueryLen):\n",
    "#             minQueryLen = len(mfcc_feat)\n",
    "            mfccPosnName[j] = filename.split('.')[0]\n",
    "            j += 1\n",
    "            i += 100\n",
    "print(minQueryLen)\n",
    "print(minId)\n",
    "print(maxQueryLen)\n",
    "print(maxId)\n",
    "print(count)"
   ]
  },
  {
   "cell_type": "code",
   "execution_count": 71,
   "metadata": {},
   "outputs": [
    {
     "name": "stdout",
     "output_type": "stream",
     "text": [
      "et \n",
      "reckon \n"
     ]
    }
   ],
   "source": [
    "print(queryList[1007])\n",
    "print(queryList[308])"
   ]
  },
  {
   "cell_type": "code",
   "execution_count": 73,
   "metadata": {},
   "outputs": [
    {
     "name": "stdout",
     "output_type": "stream",
     "text": [
      "(1300, 17984)\n"
     ]
    }
   ],
   "source": [
    "import numpy as np\n",
    "import lshknn\n",
    "\n",
    "# Make mock data\n",
    "# 2 features (rows), 4 samples (columns)\n",
    "data = np.array(mfccNumpyArray,\n",
    "        dtype=np.float64)\n",
    "data = data.transpose()\n",
    "\n",
    "print(data.shape)\n",
    "\n",
    "# Instantiate class\n",
    "c = lshknn.Lshknn(\n",
    "        data=data,\n",
    "        k=2,\n",
    "        threshold=0.2,\n",
    "        m=10,\n",
    "        slice_length=4)\n",
    "\n",
    "# Call subroutine\n",
    "knn, similarity, n_neighbors = c()\n",
    "\n",
    "# Check result\n",
    "# print(knn)"
   ]
  },
  {
   "cell_type": "code",
   "execution_count": 74,
   "metadata": {},
   "outputs": [
    {
     "name": "stdout",
     "output_type": "stream",
     "text": [
      "(17984, 2)\n"
     ]
    }
   ],
   "source": [
    "print(knn.shape)"
   ]
  },
  {
   "cell_type": "code",
   "execution_count": 75,
   "metadata": {},
   "outputs": [
    {
     "name": "stdout",
     "output_type": "stream",
     "text": [
      "[342L 1080L]\n"
     ]
    }
   ],
   "source": [
    "print(knn[2])"
   ]
  },
  {
   "cell_type": "code",
   "execution_count": 76,
   "metadata": {},
   "outputs": [
    {
     "name": "stdout",
     "output_type": "stream",
     "text": [
      "3853-163249-0036\n",
      "3853-163249-0042\n",
      "777-126732-0005\n"
     ]
    }
   ],
   "source": [
    "print(mfccPosnName[2])\n",
    "print(mfccPosnName[342])\n",
    "print(mfccPosnName[1080])"
   ]
  },
  {
   "cell_type": "code",
   "execution_count": 82,
   "metadata": {},
   "outputs": [
    {
     "name": "stdout",
     "output_type": "stream",
     "text": [
      "his wife fed him with the fat of the land regardless of consequences his children revolved about him with tireless curiosity and wonder his neighbors flocked in to applaud advise and admire every one treated him with a respect most grateful to his feelings he was an object of interest and with every hour his importance increased so that by night he felt like a commander in chief and bore himself accordingly\n",
      "\n",
      "as a married woman you will get on better as my wife you will be allowed to come to me if i need you and as my he stopped there for he could not add as my widow you will have my pension to support you\n",
      "\n",
      "with his elbow presenting no appearance of a joint but more like a bend in a dummy's limb thrown over the back of a chair he leaned forward slightly over his short and enormous thighs to spit into the grate\n",
      "\n"
     ]
    }
   ],
   "source": [
    "print(transDict['3853-163249-0036'])\n",
    "print(transDict['3853-163249-0042'])\n",
    "print(transDict['777-126732-0005'])"
   ]
  },
  {
   "cell_type": "code",
   "execution_count": 68,
   "metadata": {},
   "outputs": [
    {
     "name": "stdout",
     "output_type": "stream",
     "text": [
      "[u'stopping ', u'go ', u'ordinary ', u'profession ', u'soup ', u\"can't \", u'three ', u'whispered ', u'good ', u'men ', u'something ', u'started ', u'visitors ', u'maize ', u'little ', u'speaks ', u'nearly ', u'heeded ', u'wines ', u'bringing ', u'preoccupied ', u'shouted ', u'brau ', u'fried ', u'midst ', u'last ', u'claus ', u'kaliko ', u'much ', u'one ', u'alone ', u'side ', u'hon ', u'early ', u'cowboys ', u'mine ', u'amazed ', u'altercation ', u'started ', u'mary ', u'others ', u'painful ', u'gambled ', u'brought ', u'smiles ', u'school ', u'late ', u'account ', u'repair ', u'illustration ', u'intended ', u'twelve ', u'sick ', u'see ', u'love ', u\"he's \", u'word ', u'bad ', u'called ', u'stand ', u'seen ', u'drain ', u'pleasure ', u'upon ', u'clean ', u'day ', u'must ', u'egyptian ', u'houses ', u'fast ', u'help ', u'brave ', u'protect ', u'told ', u'irish ', u'neither ', u'meekin ', u'whatever ', u'luxuriate ', u'freely ', u'old ', u'dangers ', u'cried ', u'see ', u'accosted ', u'gwynplaine ', u'getting ', u'earth ', u'poison ', u'seems ', u'persuade ', u'took ', u'chair ', u'honour ', u'bridge ', u'quickly ', u'done ', u'consult ', u'pain ', u'keep ', u'unfavourable ', u'seemed ', u'turned ', u'excellency ', u'deucalion ', u'result ', u'classes ', u'likely ', u'nothing ', u'suggestions ', u'hand ', u'christ ', u'sit ', u'things ', u'whose ', u'right ', u'line ', u'exception ', u'sweetness ', u'horse ', u'pale ', u'impossible ', u'expected ', u'fashioned ', u'exception ', u'natural ', u'solid ', u'human ', u'approaches ', u'three ', u'rouse ', u'asked ', u'hands ', u'cerinthus ', u'frightfully ', u'george ', u'rolled ', u'prometheus ', u'fried ', u'toil ', u'effect ', u'dollars ', u'men ', u'little ', u'limply ', u'mortar ', u'bestia ', u'remark ', u'knew ', u'seen ', u'let ', u'carrying ', u'ferdinand ', u'hardwigg ', u'time ', u'beginning ', u'perhaps ', u'leaned ', u'take ', u'fencing ', u'straightens ', u'sparse ', u'told ', u'progress ', u'libano ', u'quantity ', u'true ', u'beautiful ', u'night ', u'prisoners ', u'brushed ', u'wonderful ', u'gods ', u'shouts ', u'hours ', u'sir ', u'memories ', u'found ', u'failing ', u'neither ', u'beggar ', u'time ', u'hot ', u'performances ', u'randal ', u'play ', u'bouquet ', u'grow ', u'change ', u'especially ', u'superfluous ', u\"delaunay's \", u'real ', u'glad ', u'pavel ', u'volitions ', u'home ', u'gang ', u'thought ', u'stir ', u'spent ', u'meet ', u'delightful ', u'honeymoon ', u'tracing ', u'time ', u'mister ', u'relaxation ', u'look ', u'burst ', u'row ', u'went ', u'indifferent ', u'sibyl ', u'rhein ', u'song ', u'like ', u'see ', u'boss ', u'depths ', u'upon ', u'cart ', u'mention ', u'day ', u'original ', u'writes ', u'god ', u'skin ', u'know ', u'nine ', u'shining ', u'harry ', u'morning ', u'knowledge ', u'heels ', u'whether ', u'survives ', u'unless ', u'coming ', u'turned ', u'many ', u'showing ', u'pass ', u'instantly ', u'mistake ', u'see ', u'watch ', u'rest ', u'frequently ', u'came ', u'tree ', u'groan ', u'bake ', u'whether ', u'first ', u'curious ', u'duty ', u'came ', u'embraced ', u'answered ', u'never ', u'acquainting ', u'came ', u'cup ', u'shiloh ', u'piece ', u\"detective's \", u'first ', u'braved ', u'keep ', u'depressing ', u'calendar ', u'advance ', u'old ', u'cash ', u'abduction ', u'paternal ', u'walk ', u'friar ', u'bed ', u'puzzled ', u'clews ', u'loss ', u'public ', u'surroundings ', u'ground ', u'placed ', u'hardly ', u'blasphemous ', u'sweet ', u'sometimes ', u'evening ', u'chunky ', u'whole ', u'catherine ', u'life ', u'certainly ', u'good ', u'depend ', u'times ', u'enemies ', u'constantly ', u'equally ', u'relieved ', u'despair ', u'perfect ', u'mop ', u'little ', u'reckon ', u'squires ', u'thanking ', u'psalm ', u'clearly ', u'later ', u'black ', u'devil ', u'without ', u'matters ', u'shoulders ', u'lectures ', u'man ', u'plainly ', u'arthur ', u'shame ', u'son ', u'ostentatious ', u'feeling ', u'tin ', u'made ', u'poorer ', u'around ', u'bad ', u'missus ', u'two ', u'voice ', u'never ', u'could ', u'tiles ', u'upon ', u'others ', u'though ', u'pigeon ', u'pony ', u'one ', u'curl ', u'bay ', u'amuse ', u'yes ', u'propensity ', u'movables ', u'stir ', u'though ', u'best ', u'treatment ', u'standard ', u'mainhall ', u'good ', u'vast ', u'month ', u'work ', u'furniture ', u'delightful ', u'near ', u'weapon ', u'stomach ', u'knows ', u'come ', u'said ', u'defied ', u'wrapped ', u'frequently ', u'guided ', u'rubbing ', u'saw ', u'sublime ', u'yeast ', u'trousers ', u'said ', u'could ', u'wabi ', u'likenesses ', u'much ', u'done ', u\"i'll \", u'nature ', u'eighteen ', u'partly ', u'ruggedo ', u'bread ', u'encounter ', u'might ', u'stevie ', u'gwynplaine ', u'heinous ', u'intelligence ', u'warm ', u'beat ', u'tied ', u'short ', u'exhibited ', u'toward ', u'idea ', u'volunteers ', u'mourning ', u'open ', u'hens ', u'along ', u'small ', u'prophet ', u'window ', u'family ', u'bartley ', u'thousand ', u'months ', u'bayoneted ', u'returned ', u'indeed ', u'dead ', u'much ', u'illustration ', u'full ', u'light ', u'gwynplaine ', u'husband ', u'mountebank ', u'looked ', u'leaden ', u'perils ', u'cruel ', u'case ', u'useful ', u'man ', u'garden ', u'first ', u'refuge ', u'long ', u'mind ', u'murderous ', u'ambrosch ', u'note ', u'yes ', u'faith ', u'hands ', u'illustration ', u'beauty ', u'time ', u'fingernail ', u'stevie ', u'later ', u'murderous ', u'husband ', u'die ', u'day ', u'bravely ', u'fading ', u'gryce ', u'home ', u'dish ', u'till ', u'information ', u'walls ', u'little ', u'deeper ', u'lovely ', u'lady ', u'made ', u'lest ', u'tears ', u'become ', u'full ', u'hypnotic ', u'omitted ', u'keep ', u'silver ', u'spirit ', u'said ', u'number ', u'food ', u'simple ', u'well ', u'holding ', u'trim ', u'one ', u'flushed ', u'last ', u'king ', u'know ', u'sisters ', u'man ', u'together ', u'pleasure ', u'carriage ', u'felt ', u'matter ', u'dream ', u'french ', u'volatile ', u'curley ', u'poor ', u'trevelyan ', u'religious ', u'pretty ', u'story ', u'could ', u'works ', u'led ', u'knows ', u'would ', u'one ', u'balls ', u'easier ', u'threw ', u'princely ', u'bring ', u'friend ', u'bowed ', u'masterpiece ', u'e ', u'boss ', u'accord ', u'stony ', u'much ', u'michael ', u'paused ', u'eats ', u'charleston ', u'added ', u'also ', u'century ', u'robert ', u'cook ', u'grandam ', u'flour ', u'printed ', u'indeed ', u'better ', u'kingdom ', u'life ', u'longer ', u'antonia ', u'gushes ', u'spite ', u'gwynplaine ', u'entreated ', u'run ', u'goods ', u'stored ', u'boy ', u'roads ', u'shared ', u'rolls ', u'get ', u'placed ', u'us ', u'sly ', u'flowers ', u'going ', u'lawn ', u'lives ', u'three ', u'besides ', u'beneath ', u'basil ', u'respectable ', u'plain ', u'wealth ', u'preparations ', u'quick ', u'like ', u'exterminate ', u'us ', u'sounds ', u'perfect ', u'one ', u'remarkable ', u'water ', u'worth ', u'room ', u'would ', u'hermit ', u'apple ', u'friends ', u'finally ', u'tactics ', u'begins ', u'encumbered ', u'little ', u'looking ', u'dig ', u'ladies ', u'day ', u'journal ', u'place ', u'life ', u'fervent ', u'christie ', u'sniggered ', u'quiet ', u'visit ', u'forcemeat ', u'surprising ', u'four ', u'best ', u'company ', u'enthusiasm ', u'used ', u'vaguely ', u'many ', u'connections ', u'approach ', u'ready ', u'spite ', u'ascended ', u'superior ', u'attack ', u'whispered ', u'told ', u'convict ', u'gentle ', u'ran ', u'directly ', u'state ', u'young ', u'troubling ', u'wider ', u'estimates ', u'fallen ', u'preach ', u'insuperable ', u'cried ', u'one ', u'buns ', u'word ', u'yes ', u'accompanying ', u'wife ', u'led ', u'opinion ', u'everybody ', u'along ', u'leaves ', u'according ', u'answered ', u'save ', u'help ', u'princely ', u'looked ', u'try ', u'wants ', u'recommends ', u'perhaps ', u'mark ', u'thing ', u'verloc ', u'course ', u\"i'm \", u'baulked ', u'everlasting ', u'clams ', u'wanted ', u\"charlie's \", u'chattahoochee ', u'child ', u'house ', u'lungs ', u'high ', u'fault ', u'seen ', u'hot ', u'made ', u'dropping ', u'cry ', u'last ', u'boys ', u'pardon ', u'compelled ', u'others ', u'said ', u'growing ', u'cards ', u'carry ', u'accompany ', u'looks ', u'evening ', u'days ', u'phoebe ', u\"kitty's \", u'march ', u'lady ', u'us ', u'best ', u'guess ', u'thy ', u'times ', u'thanks ', u'remarkably ', u'mile ', u'said ', u'little ', u'inhale ', u'found ', u'met ', u'time ', u'farmer ', u'handler ', u'quite ', u'seasoned ', u'sober ', u'journey ', u'sight ', u'glancing ', u'looked ', u'equal ', u'best ', u'growled ', u'eyes ', u'two ', u'work ', u'sage ', u'child ', u'strain ', u'got ', u'shall ', u'give ', u'kaliko ', u'burgundy ', u'macklewain ', u'wife ', u'set ', u'conquering ', u'white ', u'vladimir ', u'exclaimed ', u'ginger ', u'mortar ', u'misfortune ', u'piper ', u'course ', u'came ', u'riches ', u'brigade ', u'panacea ', u'offspring ', u'full ', u'rose ', u'say ', u'ladies ', u'mean ', u'past ', u'mule ', u'illustration ', u'bozzle ', u'flowers ', u'citizen ', u'grandparents ', u'scoundrel ', u'see ', u'kitchen ', u'block ', u'see ', u'yeast ', u'upon ', u'sweetwater ', u'rags ', u'bill ', u'sides ', u'began ', u'days ', u'fallen ', u'comedian ', u'chicken ', u'company ', u'work ', u'beat ', u'say ', u'des ', u'thought ', u'tired ', u'eighty ', u'troke ', u'long ', u'pedestrians ', u'prayed ', u'insistency ', u'lay ', u'circumstances ', u'philosopher ', u'one ', u'body ', u'door ', u'hear ', u'aristocracy ', u'head ', u'would ', u'felt ', u'carries ', u'gentleman ', u'pour ', u'suffered ', u'us ', u'murderous ', u'lee ', u'note ', u'front ', u'body ', u'find ', u'wished ', u'must ', u'anybody ', u'simply ', u'tell ', u'mountebanks ', u'done ', u'thinking ', u'pulled ', u'get ', u'well ', u'illustration ', u'one ', u'coat ', u'said ', u'lay ', u'must ', u'started ', u'private ', u'footpath ', u'low ', u'yard ', u'bits ', u'victoria ', u'fragrance ', u'granted ', u'fuchs ', u'sit ', u'us ', u'escape ', u'sought ', u\"who's \", u'making ', u'conceal ', u'spectacle ', u'among ', u'altogether ', u'see ', u'ann ', u'darkness ', u'enveloped ', u'means ', u'god ', u'listen ', u'pinkies ', u'eloquently ', u'sounds ', u'lectures ', u'copiously ', u'roses ', u'seventeen ', u'let ', u'comrade ', u'dah ', u'officer ', u'performance ', u'one ', u'see ', u'set ', u'away ', u'spread ', u'salt ', u'cheatham ', u'knocked ', u'dear ', u'fencing ', u'troubling ', u'arrangements ', u'thing ', u'neck ', u'inquired ', u'blind ', u'sides ', u'rope ', u'related ', u'ann ', u'stuck ', u'quilter ', u'metal ', u'sight ', u'center ', u'cares ', u'kaliko ', u'antonia ', u'rich ', u'happening ', u'friend ', u'population ', u'relatives ', u'known ', u'country ', u'doubt ', u'many ', u'foliage ', u'know ', u'information ', u'witch ', u'business ', u'illustration ', u'ignorant ', u'beaten ', u'filled ', u'reply ', u'ever ', u'like ', u'chief ', u'sigh ', u'sudden ', u'guards ', u'left ', u'reasoning ', u'vulgar ', u'naples ', u'time ', u'oh ', u'without ', u'tell ', u'astounded ', u'missus ', u\"verloc's \", u'bill ', u'likenesses ', u'show ', u'eggs ', u'marble ', u'italy ', u'tom ', u'shall ', u'one ', u'away ', u'cloves ', u'flog ', u'freely ', u'every ', u'red ', u'thousand ', u'forbid ', u'one ', u'roof ', u'want ', u'boys ', u'strength ', u'late ', u'beat ', u'unknown ', u'corpus ', u'unit ', u'others ', u'eyelids ', u'cultivated ', u'found ', u'similarity ', u'deliver ', u'brown ', u'vladimir ', u'seem ', u'fireplace ', u'lizy ', u'wandering ', u'interview ', u'serve ', u'hermitage ', u'communities ', u'hair ', u'celestial ', u'portugal ', u'part ', u'clever ', u'loss ', u'give ', u'directly ', u'gravel ', u'half ', u'goes ', u'sniggered ', u'could ', u'knew ', u'ledge ', u'ran ', u'buildings ', u'pray ', u'inquired ', u'wheel ', u'lemon ', u'noirtier ', u'weapon ', u'could ', u'craving ', u'hath ', u'battery ', u'never ', u'assaulted ', u'therewithal ', u'towards ', u'wholesome ', u'soon ', u'boy ', u'program ', u'last ', u'made ', u'much ', u'et ', u'best ', u'broken ', u'decided ', u'put ', u'delighted ', u'admiration ', u'country ', u'brigade ', u'man ', u'aunt ', u'illustration ', u'jumped ', u'say ', u'growth ', u'happy ', u'sir ', u'came ', u'numbers ', u'like ', u'friend ', u'back ', u'spend ', u'might ', u'bui ', u'went ', u'us ', u'much ', u'last ', u'nature ', u'place ', u'brown ', u'passed ', u'eighteen ', u'asura ', u'importance ', u'unhappily ', u'feast ', u'pressed ', u'wine ', u'certainly ', u'flushing ', u'whispered ', u'sarah ', u'preparation ', u'tell ', u'glass ', u'boy ', u'degenerated ', u'dismissing ', u'found ', u'case ', u'green ', u'bow ', u'usually ', u'door ', u'rang ', u'rhein ', u'better ', u'open ', u'hard ', u'good ', u'pleasure ', u'yes ', u'characters ', u'net ', u'last ', u'gave ', u'sphere ', u'sure ', u'still ', u'relations ', u'seat ', u'waiting ', u'illustration ', u'yes ', u'soon ', u'well ', u'numbers ', u'knowed ', u'one ', u'era ', u'yes ', u'steadily ', u'answered ', u'solemn ', u'nothing ', u'away ', u'command ', u'line ', u'frightful ', u'room ', u'mean ', u'eyes ', u'received ', u\"child's \", u'let ', u'crash ', u'truth ', u'ornamental ', u\"gardener's \", u'unbroken ', u'home ', u'sheep ', u'choose ', u'taken ', u'cabaret ', u'many ', u'drowsy ', u'bag ', u'whispered ', u'gasped ', u'guide ', u'crumbs ', u'even ', u'make ', u'alone ', u'already ', u'time ', u'human ', u'come ', u'glad ', u'strolled ', u'variety ', u'yes ', u'getting ', u'bed ', u'right ', u'victoria ', u'home ', u'little ', u'many ', u'lunch ', u'till ', u'well ', u'houses ', u'thanks ', u'singer ', u'check ', u\"delia's \", u'angered ', u'nodded ', u'wilds ', u'present ', u'dear ', u'isidore ', u'paces ', u'hath ', u'sixteen ', u'wrangler ', u'tea ', u'ginger ', u'impara ', u'gambled ', u'virtue ', u'saw ', u'enough ', u'cord ', u'faults ', u'using ', u'serve ', u'illustration ', u'gillian ', u'human ', u'romantic ', u'surroundings ', u'firm ', u'recipe ', u'would ', u'always ', u'sure ', u'around ', u'possible ', u'peaceful ', u'got ', u'opened ', u'hard ', u'curses ', u'acid ', u'enter ', u'feverishly ', u'turning ', u'strove ', u\"heaven's \", u'charcoal ', u'stew ', u'back ', u'show ', u'probably ', u'send ', u'brother ', u'mildly ', u'life ', u'four ', u'still ', u'june ', u'visitor ', u'e ', u'evidence ', u'prospect ', u'hansel ', u'added ', u'orestes ', u'one ', u'came ', u'rusks ', u'progress ', u'pounds ', u'generation ', u'decided ', u'needed ', u'lord ', u'back ', u'bozzle ', u'yes ', u'keeping ', u'trouble ', u'ago ', u'near ', u'ursus ', u'said ', u'censure ', u'recipe ', u'beings ', u'darkness ', u'knows ', u'cried ', u'like ', u'let ', u'get ', u'thought ', u'impulse ', u'night ', u'back ', u'peter ', u'public ', u'mark ', u'wind ', u'vegetable ', u'would ', u'awful ', u'larvae ', u'solitary ', u'cold ', u'cows ', u'pan ', u'illustration ', u'smiled ', u'showing ', u'strict ', u'finish ', u'often ', u'must ', u'expression ', u'horse ', u'bill ', u'enough ', u'old ', u'meet ', u'ignorant ', u\"ship's \", u'blood ', u'basin ', u'divined ', u'advance ', u'deserted ', u'writes ', u'thickened ', u'laughed ', u'trudged ', u'come ', u'rose ', u'cat ', u'mustering ', u'younger ', u'shake ', u'charmed ', u'ground ', u'blending ', u'longingly ', u'virgil ', u'heaven ', u'given ', u'consider ', u'truer ', u'discouraged ', u'caves ', u'care ', u'like ', u'woodley ', u'best ', u'joy ', u'population ', u'early ', u'account ', u'heaps ', u'engagement ', u'ursus ', u'wife ', u'fully ', u'admission ', u'millet ', u'perfunctorily ', u'plaiting ', u'laugh ', u'think ', u'table ', u'raised ', u'adventure ', u'reported ', u'one ', u'dream ', u'whisper ', u'claret ', u'temporary ', u'fall ', u'numeral ', u'special ', u'shining ', u'figure ', u'either ', u'could ', u'remain ', u'drank ', u'christians ', u'daring ', u'eyes ', u'minnetaki ', u'true ', u'always ', u'one ', u\"that's \", u'mingled ', u'confused ', u'brigade ', u'escaped ', u'rid ', u'laughed ', u'street ', u'whole ', u'light ', u'history ', u'ones ', u'reign ', u'thickened ', u'single ', u'fiercely ', u'phantasies ', u'yes ', u'assassin ', u'thought ', u'sky ', u\"that's \", u'folk ', u'centuries ', u'boys ', u'must ', u'massive ', u'prince ', u'wife ', u'wine ', u'number ', u'seemed ', u'said ', u'first ', u'said ', u'called ', u'sorrow ', u'daughter ', u'exterminate ', u'five ', u'need ', u'whose ', u'tell ', u'short ', u'thee ', u'time ', u'ambrosch ', u'said ', u'throughout ', u'said ', u'lacrima ', u'something ', u'hunger ', u'sorrow ', u'soaring ', u'glacier ', u'thought ', u'imagined ', u'exception ', u'safety ', u'twentieth ', u'attack ', u'invariably ', u'turned ', u'reached ', u'winter ', u'smells ', u'high ', u'thanks ', u'must ', u'old ', u'master ', u'voice ', u'weariness ', u'fellow ', u'loud ', u'serve ', u'called ', u'knew ', u'footsteps ', u'mean ', u'crime ', u'minding ', u'third ', u'us ', u'hand ', u'pleasure ', u\"tony's \", u'yes ', u'live ', u'already ', u'gave ', u'loose ', u'position ', u'latin ', u'moderate ', u'neither ', u'cosette ', u'desk ', u'writes ', u'direct ', u'look ', u'rushed ', u'success ', u'words ', u'exhort ', u'macklewain ', u'time ', u'spoken ', u'get ', u'relief ', u'minute ', u'pigeon ', u'two ', u'play ', u'heart ', u'stairway ', u'back ', u'higher ', u'ladies ', u'colony ', u'thorns ', u'belisarius ', u'upon ', u'sydney ', u'go ', u'shall ', u'case ', u'assaulted ', u'would ', u'thee ', u'even ', u'supreme ', u'full ', u'bottom ', u'may ', u'makest ', u'army ', u'charge ', u'spanish ', u'therefore ', u'said ', u'well ', u'nodded ', u'fingernail ', u'thing ', u'red ', u'ears ', u'sufficiently ', u'around ', u'impara ', u'come ', u'flying ', u'three ', u'boolooroo ', u'presence ', u'tower ', u'placing ', u\"i'm \", u'voice ', u'upon ', u'together ', u'soon ', u'got ', u'savagely ', u'times ', u'survives ', u'answered ', u'pepper ', u'freedom ', u'basil ', u'shall ', u'part ', u'small ', u'results ', u'dead ', u'even ', u'forms ', u'bhunda ', u'face ', u'instead ', u'last ', u'alexander ', u'either ', u\"he's \", u'full ', u'human ', u'ask ', u\"gardener's \", u'unbroken ', u'believe ', u'success ', u'mildly ', u'enclosure ', u'quick ', u'bridge ', u'gasped ', u'beyond ', u'talking ', u'city ', u'comfortingly ', u'assembly ', u'fifteen ', u'willingly ', u'speaking ', u'master ', u'thought ', u'thinking ', u'bennydeck ', u'meet ', u'pestle ', u'anything ', u'could ', u'poverty ', u'awhile ', u'sir ', u'said ', u'man ', u'national ', u'fit ', u'food ', u'daily ', u'smart ', u'e ', u'full ', u'mischievous ', u'sufficient ', u'triumph ', u'water ', u'eighteen ', u'colonel ', u'auxiliaries ', u'wind ', u'accept ', u'history ', u'marjoram ', u'miss ', u'youngest ', u'meet ', u'hour ', u'play ', u'work ', u'shop ', u'north ', u'good ', u'unhappy ', u'made ', u'curb ', u'prairie ', u'misfortune ', u'prometheus ', u'wine ', u'counter ', u'equally ', u'attention ', u'grounds ', u'smallest ', u'extended ', u'fell ', u'nourishing ', u'trip ', u'could ', u'sage ', u'regiment ', u'bride ', u'newspaper ', u'words ', u'illustration ', u'regiment ', u'yeast ', u'etchings ', u\"brother's \", u'trying ', u'father ', u'god ', u'see ', u'danced ', u'received ', u'ornaments ', u'could ', u'means ', u'wines ', u'life ', u'leaped ', u'look ', u'original ', u'saw ', u'astounded ', u'one ', u'daughter ', u'chains ', u'honestly ', u'forest ', u'despised ', u'test ', u'exclaimed ', u'pony ', u'order ', u'shimerda ', u'onion ', u'true ', u'father ', u'yankees ', u'tell ', u'almost ', u\"he's \", u'martians ', u'unconsidered ', u'racked ', u'falling ', u'pickle ', u'said ', u'pickets ', u'tell ', u'dock ', u'suggestion ', u'gazed ', u'superfluous ', u'absent ', u'yet ', u'raged ', u'true ', u'gwynplaine ', u'van ', u\"hugh's \", u'flickered ', u'verloc ', u'back ', u'fakirs ', u'stood ', u'millet ', u'lynx ', u'would ', u'foul ', u'excellent ', u'preach ', u'let ', u'mistake ', u'whirled ', u'even ', u'covered ', u'hang ', u'universal ', u'appeared ', u'shaken ', u'say ', u'west ', u'things ', u'ready ', u'except ', u'care ', u'hour ', u'know ', u\"i'm \", u'yes ', u'enough ', u'table ', u'returning ', u'finely ', u'forests ', u'increase ', u'watch ', u'haired ', u'line ', u'mary ', u'soon ', u'horror ', u'started ', u'evidently ', u'coarse ', u'thought ', u'said ', u'even ', u'said ', u'person ', u'invading ', u'leaves ', u'horace ', u'quiet ', u'yes ', u'twenty ', u'ginger ', u'shiloh ', u'acted ', u'awful ', u'obliterated ', u'right ', u'monday ', u'clean ', u'malice ', u'lamp ', u'altogether ', u'alternative ', u'great ', u'ginger ', u'white ', u'take ', u'charm ', u'lots ', u'shiloh ', u'offerings ', u\"gwynplaine's \", u'valley ', u'fully ', u'spirits ', u'well ', u'river ', u\"we'll \", u'likely ', u'three ', u'one ', u'face ', u'thickness ', u'roof ', u'translation ', u'phoebe ', u'prodigious ', u'going ', u'would ', u'lucky ', u'impossible ', u'disease ', u'clean ', u'formidable ', u'tis ', u'empire ', u'rhein ', u'always ', u'broke ', u'one ', u'wine ', u'made ', u'legs ', u'whether ', u'one ', u'clouds ', u'torch ', u'went ', u'ended ', u'home ', u'begin ', u'home ', u'living ', u'pleases ', u'listened ', u'gentlemen ', u'terminating ', u'sudden ', u'wish ', u'randal ', u'getting ', u'assault ', u'lives ', u'tumultuous ', u'notice ', u'matter ', u'full ', u'orders ', u'fashioned ', u'fails ', u'cyril ', u'final ', u'oriental ', u'blessed ', u'antioch ', u'curiosity ', u'saw ', u'overcome ', u'promptly ', u'range ', u'would ', u'terrified ', u'sharp ', u'said ', u'george ', u'wholesale ', u'wisely ', u'together ', u'four ', u'art ', u'outside ', u'moment ', u'instant ', u'good ', u'voice ', u'feast ', u'reckon ', u'murfreesboro ', u'notable ', u'shall ', u'thought ', u'everlasting ', u'makes ', u'god ', u'fire ', u'last ', u'christian ', u'yellow ', u'thousand ', u'problem ', u'sometimes ', u'dear ', u'tad ', u'mysterious ', u'minnetaki ', u'dry ', u'illustration ', u'scholar ', u'slice ', u'unconsciously ', u'man ', u'mortar ', u'departure ', u'plant ', u'boys ', u'deeper ', u'course ', u'tell ', u'like ', u'business ', u'scared ', u'scrubbed ', u'john ', u'pain ', u'quickly ', u'amongst ', u'things ', u'work ', u'borders ', u'directed ', u'rocks ', u'robert ', u'smells ', u'false ', u'sweetwater ', u'prop ', u'wish ', u'reversed ', u'try ', u'birthday ', u'keep ', u'dominated ', u'lose ', u'make ', u'deposited ', u'humph ', u'justified ', u'fuss ', u'another ', u'suddenly ', u'told ', u'editor ', u'type ', u'public ', u'help ', u'homes ', u'fish ', u'meant ', u'old ', u'satisfied ', u'keep ', u'unlike ', u'carries ', u'eager ', u'elbow ', u'hold ', u'sage ', u'ushered ', u'bean ', u'read ', u'buried ', u'moment ', u'burst ', u'served ', u'beggar ', u'interests ', u'covered ', u'waving ', u'chief ', u'drew ', u'north ', u'fault ', u'illustration ', u'gave ', u'extraordinary ', u'sight ', u'mirabel ', u'half ', u'another ', u'decay ', u'fruit ', u'rest ', u'even ', u'whole ', u'going ', u'quixote ', u'dreaming ', u'edition ', u'carrying ', u'distance ', u'appeared ', u'mayonnaise ', u'words ', u'seasonable ', u'received ', u'edges ', u'tom ', u'whole ', u'harm ', u'concentrating ', u'care ', u'love ', u'cows ', u'hard ', u'slices ', u'narrative ', u'dances ', u'mama ', u'quinci ', u'room ', u'steering ', u'oil ', u'make ', u'splendour ', u'apples ', u'talk ', u'much ', u'homecoming ', u'hide ', u'quite ', u'laid ', u'wedding ', u'stirred ', u'tried ', u'pleasure ', u'could ', u'gray ', u'enough ', u'grand ', u'illustration ', u'children ', u\"man's \", u'george ', u'fine ', u'suddenly ', u'story ', u'old ', u'hochheimer ', u'smelt ', u'courts ', u'one ', u'kirkleatham ', u'mister ', u'swept ', u'second ', u'race ', u'awhile ', u'carolina ', u'make ', u'approached ', u'two ', u'behind ', u'advantage ', u'spirit ', u'ask ', u'man ', u'place ', u'agreed ', u'agreed ', u'disdainful ', u\"lady's \", u'john ', u'luscious ', u'lady ', u'eggs ', u'music ', u'care ', u'remarkable ', u'length ', u'stated ', u'away ', u'must ', u'strong ', u'remember ', u'bring ', u'good ', u'carried ', u'give ', u'shall ', u'wakening ', u'spirit ', u'wheels ', u'case ', u'though ', u'horrible ', u'noticed ', u'different ', u'foreman ', u'fighting ', u'dominated ', u'poles ', u'visitors ', u'aware ', u'information ', u'wet ', u'opinion ', u'ears ', u'public ', u'palace ', u'presence ', u'lady ', u'fell ', u'friend ', u'long ', u'hard ', u'obey ', u'stacy ', u'time ', u'late ', u'una ', u'ordinary ', u'coming ', u'passions ', u'bereaved ', u'even ', u'know ', u'said ', u'dinners ', u'handles ', u'seemed ', u'air ', u'defense ', u'heard ', u'step ', u'checked ', u'battle ', u'faintheartedness ', u'chef ', u'says ', u'mix ', u'firmness ', u'loudly ', u'like ', u'done ', u'went ', u'bread ', u'intolerable ', u'whence ', u'meanwhile ', u'lit ', u'coals ', u'camp ', u'open ', u'care ', u'straight ', u'fast ', u'slater ', u'stupirti ', u'michaelis ', u'ran ', u'plant ', u'wrote ', u'must ', u'puritan ', u'way ', u'christ ', u'bozzle ', u'small ', u'wrote ', u'straight ', u\"he's \", u'among ', u'last ', u'festive ', u'wink ', u'sideways ', u'exclaimed ', u'side ', u'bed ', u'agent ', u'america ', u'cultivated ', u'happiness ', u'morning ', u'showered ', u'matter ', u'seventeen ', u'another ', u'pleasure ', u'prodigious ', u'fellows ', u'mowed ', u'kirkleatham ', u'sleepy ', u'basil ', u'seventeen ', u'many ', u'twenties ', u'profound ', u'sorghum ', u'accident ', u'asked ', u'pony ', u'someone ', u'passed ', u'palm ', u'suffer ', u'time ', u'human ', u'laid ', u'timid ', u'little ', u'plane ', u'dear ', u'arm ', u'long ', u'forcemeat ', u'eloquently ', u'boatmen ', u'accosted ', u'court ', u'alone ', u'car ', u'clean ', u'small ', u'speaks ', u'well ', u'pressed ', u'troublesome ', u'green ', u\"can't \", u'recognizes ', u'scruples ', u'complete ', u'replied ', u'ruby ', u'one ', u'voice ', u\"child's \", u'sanum ', u'good ', u'meditates ', u\"brion's \", u'life ', u'pass ', u'room ', u'express ', u'may ', u'colony ', u'greek ', u'father ', u'people ', u'houses ', u'something ', u'depends ', u'limit ', u'sylvan ', u\"gladden's \", u'undisturbed ', u'emerged ', u'half ', u'mingled ', u'exceedingly ', u'defeat ', u'imagine ', u'let ', u\"o'clock \", u'performances ', u'arms ', u'charmed ', u'would ', u'necessary ', u'round ', u'dear ', u'heavens ', u'flag ', u'thoroughly ', u'mother ', u'affirmative ', u'go ', u'danger ', u'years ', u'rocket ', u'stupirti ', u'well ', u'business ', u'sent ', u'tom ', u'worth ', u'look ', u'case ', u'seemed ', u'fall ', u'whilst ', u'seen ', u'must ', u'night ', u'chair ', u'return ', u'roof ', u'must ', u'broken ', u'turn ', u'must ', u'left ', u'colors ', u'black ', u'whether ', u'said ', u'sat ', u'would ', u'renewing ', u'fell ', u'lighter ', u'sensations ', u'voice ', u'one ', u'matter ', u'pickle ', u'true ', u'spoils ', u'wounds ', u'harry ', u'buildings ', u'able ', u'public ', u'contemporary ', u'imagine ', u'nations ', u\"he's \", u'said ', u'away ', u'nourishing ', u'crevassed ', u'soul ', u'sure ', u'dining ', u'poor ', u'head ', u'dawes ', u\"i'm \", u'laughed ', u'yo ', u'traits ', u'pony ', u'tell ', u'inclined ', u'torture ', u'door ', u'collectors ', u'folded ', u'boys ', u'left ', u'crossed ', u'could ', u'uncle ', u'suburbs ', u'everywhere ', u\"here's \", u'impertinent ', u'sufficient ', u'soon ', u'woman ', u'play ', u'everlasting ', u'pop ', u'dark ', u'replied ', u'pickle ', u'corresponding ', u'eyes ', u'would ', u'modoc ', u'world ', u'without ', u'boss ', u'wife ', u'tender ', u'darker ', u'privileges ', u'occasionally ', u'hypnotic ', u'eternity ', u'field ', u'brother ', u'evening ', u'illustration ', u'first ', u'spirits ', u'excitement ', u'success ', u'went ', u'flushed ', u'conceit ', u'rome ', u'arms ', u'touching ', u'like ', u'howling ', u\"that's \", u'judicial ', u'finest ', u'bill ', u'lie ', u'morning ', u'see ', u'arose ', u'men ', u'hereafter ', u'fire ', u'glared ', u'house ', u'attention ', u'colonel ', u'poor ', u'morton ', u'exquisite ', u'rose ', u'word ', u'strewed ', u'risen ', u'feeling ', u'slipped ', u'north ', u'instead ', u'dah ', u'head ', u'bed ', u'two ', u'says ', u'else ', u'ground ', u'charles ', u'perhaps ', u'fell ', u'minister ', u'start ', u'made ', u'tree ', u'made ', u'anyway ', u'much ', u'sight ', u'night ', u'rhein ', u'delightful ', u'hundred ', u'poison ', u'think ', u'gently ', u'better ', u'reverend ', u'expect ', u'friendships ', u'like ', u'public ', u'must ', u'eight ', u'three ', u'assaulted ', u'fell ', u'garden ', u'trust ', u'studied ', u'woman ', u'knows ', u\"they're \", u'beheld ', u'pan ', u'equals ', u'weeping ', u'charming ', u'catherine ', u'five ', u'man ', u'many ', u'body ', u'going ', u'miss ', u'waking ', u'trot ', u'eye ', u'made ', u'asked ', u'long ', u'track ', u'going ', u'hurried ', u'omitted ', u'three ', u\"bozzle's \", u'hands ', u'supper ', u\"we'll \", u'whole ', u'rider ', u'crash ', u'shoulders ', u'let ', u'alarm ', u'french ', u'line ', u'wishing ', u'gladdened ', u'judging ', u'send ', u'importance ', u'riverlike ', u'come ', u'ingredients ', u'ought ', u'checked ', u'man ', u'prayed ', u'wine ', u'nothing ', u'first ', u'charges ', u'detach ', u'quickly ', u'encounter ', u'theatre ', u'toward ', u'loose ', u'robes ', u'night ', u'illustration ', u'might ', u'fried ', u\"brown's \", u'cities ', u'knows ', u'lacking ', u'means ', u'far ', u'pleasure ', u'choose ', u'play ', u'address ', u'face ', u'said ', u'boys ', u'enough ', u'let ', u'back ', u'taking ', u'christmas ', u'ere ', u'hell ', u'thought ', u'beast ', u'became ', u'corner ', u'door ', u'chaparral ', u'tad ', u'pure ', u'mildly ', u'feel ', u'measured ', u'intimately ', u'longer ', u'mischievous ', u'listen ', u\"bush' \", u'sick ', u'emerald ', u'army ', u'gwynplaine ', u'ought ', u'much ', u'nations ', u'company ', u'absent ', u'promise ', u'rushing ', u'gladden ', u'eleven ', u'poor ', u'ready ', u'glared ', u'alexandria ', u'entreated ', u'convolvulus ', u'absolutely ', u'illustration ', u'videt ', u'sat ', u'forbade ', u'well ', u'water ', u'said ', u'along ', u'another ', u\"waverley's \", u'moral ', u'seems ', u'margins ', u'world ', u'established ', u'much ', u'tankards ', u'like ', u'unbroken ', u'catherine ', u'fault ', u'sun ', u'public ', u'grant ', u'satisfied ', u'love ', u'came ', u'wine ', u'venus ', u'smoke ', u'man ', u'last ', u'tremble ', u'physicians ', u\"there's \", u'sober ', u'mary ', u'hope ', u'human ', u'damn ', u'trot ', u'brushed ', u'gryce ', u'tell ', u'best ', u'uncertain ', u'listened ', u'element ', u'nearer ', u'mulrady ', u'entirely ', u'excellent ', u'beds ', u'urgency ', u'face ', u'dove ', u'inconsistent ', u'put ', u'suggestion ', u'compartments ', u\"can't \", u'bye ', u'happy ', u'back ', u'train ', u'expectations ', u'women ', u'go ', u'clearly ', u'could ', u\"i've \", u'pillows ', u'high ', u'foliage ', u'mean ', u'seventeen ', u'instant ', u'useless ', u'three ', u'pass ', u'word ', u'course ', u'found ', u'remarked ', u'order ', u'go ', u'finally ', u'oh ', u'stevie ', u'harangued ', u'decrease ', u'convinced ', u'lake ', u'grethel ', u'everlasting ', u'file ', u'enough ', u'daughter ', u'arrangements ', u'scene ', u'inland ', u'zingiber ', u'must ', u'person ', u'far ', u'course ', u'mayonnaise ', u'chill ', u'ripened ', u'guides ', u'room ', u'little ', u'horses ', u'lady ', u'getting ', u'excellent ', u'missed ', u'full ', u'front ', u'little ', u'pastime ', u'extraordinary ', u'though ', u'ravine ', u'asked ', u'contemporaries ', u'loveth ', u'force ', u'rashness ', u'restless ', u'brigade ', u\"hand's \", u'shook ', u'age ', u'george ', u'survey ', u'indeed ', u'think ', u'accustomed ', u'useful ', u'neath ', u'double ', u'side ', u'thirty ', u'guard ', u'english ', u'hatchie ', u'lips ', u'know ', u'side ', u'upon ', u'general ', u'found ', u'houses ', u'carrie ', u'added ', u'birth ', u'center ', u'said ', u'two ', u'announcement ', u'life ', u'affairs ', u'theocritus ', u'new ', u'refuge ', u'thou ', u'confessed ', u'agreed ', u'two ', u'gotten ', u'touching ', u'palm ', u'minute ', u'bambeday ', u'midst ', u'around ', u'kitchen ', u'dusk ', u'said ']\n"
     ]
    }
   ],
   "source": [
    "print((queryList))"
   ]
  },
  {
   "cell_type": "code",
   "execution_count": null,
   "metadata": {},
   "outputs": [],
   "source": []
  }
 ],
 "metadata": {
  "kernelspec": {
   "display_name": "Python 2",
   "language": "python",
   "name": "python2"
  },
  "language_info": {
   "codemirror_mode": {
    "name": "ipython",
    "version": 2
   },
   "file_extension": ".py",
   "mimetype": "text/x-python",
   "name": "python",
   "nbconvert_exporter": "python",
   "pygments_lexer": "ipython2",
   "version": "2.7.12"
  }
 },
 "nbformat": 4,
 "nbformat_minor": 2
}
